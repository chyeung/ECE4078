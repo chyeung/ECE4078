{
 "cells": [
  {
   "cell_type": "markdown",
   "metadata": {},
   "source": [
    "# <center>Practical 09: Coding Exercise (6pts)</center>"
   ]
  },
  {
   "cell_type": "markdown",
   "metadata": {},
   "source": [
    "<p style=\"color:#0000FF\";> <b>Lets first make sure that all the required dependencies are installed</b></p> \n",
    "\n",
    "### With pip (in your local machine)\n",
    "1. Open Anaconda prompt\n",
    "2. Type ``pip install gym``\n",
    "3. If pip is missing, type ``conda install pip``\n",
    "4. If using a GPU, type ``pip install torch==1.6.0+cu101 torchvision==0.7.0+cu101 -f https://download.pytorch.org/whl/torch_stable.html``\n",
    "5. If using a CPU, type ``pip install torch==1.6.0+cpu torchvision==0.7.0+cpu -f https://download.pytorch.org/whl/torch_stable.html``\n",
    "\n",
    "### In AWS\n",
    "1. Add and execute the following line at the beginning of your notebook\n",
    "```python \n",
    "import sys\n",
    "!{sys.executable} -m pip install gym```\n",
    "2. Kernels with ``torchvision`` and ``pytorch`` are already installed and ready to be used\n",
    "3. Go to ``Kernel -> Change kernel`` and select ``conda_pytorch_latest_p36``"
   ]
  },
  {
   "cell_type": "markdown",
   "metadata": {},
   "source": [
    "# CartPole Environment\n",
    "\n",
    "In this notebook, we will DQN to solve the Cart-Pole environment.\n",
    "\n",
    "<img src=\"Support/images/cartPole.gif\" height=\"400\" width=\"400\" align=\"center\">\n",
    "\n",
    "## State Space\n",
    "The state space of this environment is defined by a 4-tuple where each value represents:\n",
    "\n",
    "<img src=\"Support/images/cartPole_actionSpace.png\" height=\"400\" width=\"400\" align=\"center\">\n",
    "\n",
    "## Action Space\n",
    "There are just two possible discrete actions\n",
    "\n",
    "<table>\n",
    "<thead>\n",
    "<tr>\n",
    "<th>Num</th>\n",
    "<th>Action</th>\n",
    "</tr>\n",
    "</thead>\n",
    "<tbody>\n",
    "<tr>\n",
    "<td>0</td>\n",
    "<td>Push cart to the left</td>\n",
    "</tr>\n",
    "<tr>\n",
    "<td>1</td>\n",
    "<td>Push cart to the right</td>\n",
    "    </tr>\n",
    "</table>\n",
    "\n",
    "## Rewards\n",
    "\n",
    "Reward is 1 for every step taken, including the termination step\n",
    "\n",
    "## Other Considerations\n",
    "- When choosing the starting state, all observations are assigned a uniform random value in [-0.05..0.05]\n",
    "- An episode is considered as terminated if:\n",
    "    - Pole Angle is more than 12 degrees.\n",
    "    - Cart Position is more than 2.4 (center of the cart reaches the edge of the display).\n",
    "    - Episode length is greater than 200.\n",
    "    \n",
    "    \n",
    "**The environment is considered to be solved when the average return is greater than or equal to 195.0 over 100 consecutive trials.**"
   ]
  },
  {
   "cell_type": "code",
   "execution_count": null,
   "metadata": {},
   "outputs": [],
   "source": [
    "#import sys\n",
    "#!{sys.executable} -m pip install gym"
   ]
  },
  {
   "cell_type": "code",
   "execution_count": 1,
   "metadata": {},
   "outputs": [
    {
     "name": "stdout",
     "output_type": "stream",
     "text": [
      "Collecting gym\n",
      "  Downloading gym-0.17.3.tar.gz (1.6 MB)\n",
      "\u001b[K     |████████████████████████████████| 1.6 MB 12.0 MB/s eta 0:00:01\n",
      "\u001b[?25hRequirement already satisfied: scipy in /home/ec2-user/anaconda3/envs/pytorch_latest_p36/lib/python3.6/site-packages (from gym) (1.5.2)\n",
      "Requirement already satisfied: numpy>=1.10.4 in /home/ec2-user/anaconda3/envs/pytorch_latest_p36/lib/python3.6/site-packages (from gym) (1.19.1)\n",
      "Collecting pyglet<=1.5.0,>=1.4.0\n",
      "  Downloading pyglet-1.5.0-py2.py3-none-any.whl (1.0 MB)\n",
      "\u001b[K     |████████████████████████████████| 1.0 MB 69.7 MB/s eta 0:00:01\n",
      "\u001b[?25hRequirement already satisfied: cloudpickle<1.7.0,>=1.2.0 in /home/ec2-user/anaconda3/envs/pytorch_latest_p36/lib/python3.6/site-packages (from gym) (1.3.0)\n",
      "Requirement already satisfied: future in /home/ec2-user/anaconda3/envs/pytorch_latest_p36/lib/python3.6/site-packages (from pyglet<=1.5.0,>=1.4.0->gym) (0.18.2)\n",
      "Building wheels for collected packages: gym\n",
      "  Building wheel for gym (setup.py) ... \u001b[?25ldone\n",
      "\u001b[?25h  Created wheel for gym: filename=gym-0.17.3-py3-none-any.whl size=1654654 sha256=81f4ce6a2f3aed0ea0577e404eb1873dd0c98a58626ae072b59b707d7ff84850\n",
      "  Stored in directory: /home/ec2-user/.cache/pip/wheels/95/b0/62/af38051b97354eab5b2ff9a5fb92f5015a480745568c91e0b0\n",
      "Successfully built gym\n",
      "Installing collected packages: pyglet, gym\n",
      "Successfully installed gym-0.17.3 pyglet-1.5.0\n",
      "\u001b[33mWARNING: You are using pip version 20.0.2; however, version 20.2.4 is available.\n",
      "You should consider upgrading via the '/home/ec2-user/anaconda3/envs/pytorch_latest_p36/bin/python -m pip install --upgrade pip' command.\u001b[0m\n"
     ]
    }
   ],
   "source": [
    "# Import all required dependencies\n",
    "\n",
    "import gym\n",
    "import math\n",
    "import random\n",
    "import numpy as np\n",
    "from collections import namedtuple\n",
    "import copy\n",
    "from itertools import count\n",
    "\n",
    "import torch\n",
    "import torch.nn as nn\n",
    "import torch.optim as optim\n",
    "import torch.autograd as autograd \n",
    "\n",
    "\n",
    "import matplotlib.pyplot as plt\n",
    "%matplotlib inline\n",
    "\n",
    "import io\n",
    "import base64\n",
    "from IPython.display import HTML\n",
    "from IPython.display import clear_output\n",
    "\n",
    "import sys\n",
    "import os\n",
    "sys.path.insert(0, os.path.abspath('Support'))\n",
    "\n",
    "# if gpu is to be used\n",
    "device = torch.device(\"cuda\" if torch.cuda.is_available() else \"cpu\")\n",
    "\n",
    "RUN_TRAINING = False"
   ]
  },
  {
   "cell_type": "markdown",
   "metadata": {},
   "source": [
    "## DQN Algorithm\n",
    "\n",
    "With a random policy, the cart pole behaves as shown below and obtains a reward of 13 points\n",
    "\n",
    "Let's use Deep Q-learning with replay memory and target action-value network to improve the performance of the cart pole"
   ]
  },
  {
   "cell_type": "code",
   "execution_count": 2,
   "metadata": {},
   "outputs": [
    {
     "data": {
      "text/html": [
       "\n",
       "    <video width=\"360\" height=\"auto\" alt=\"test\" controls><source src=\"data:video/mp4;base64,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\" type=\"video/mp4\" /></video>"
      ],
      "text/plain": [
       "<IPython.core.display.HTML object>"
      ]
     },
     "execution_count": 2,
     "metadata": {},
     "output_type": "execute_result"
    }
   ],
   "source": [
    "video = io.open('Support/images/randomPolicy.mp4', 'r+b').read()\n",
    "encoded = base64.b64encode(video)\n",
    "HTML(data='''\n",
    "    <video width=\"360\" height=\"auto\" alt=\"test\" controls><source src=\"data:video/mp4;base64,{0}\" type=\"video/mp4\" /></video>'''\n",
    ".format(encoded.decode('ascii')))"
   ]
  },
  {
   "cell_type": "markdown",
   "metadata": {},
   "source": [
    "You are tasked with extending the DQN with Replay Memory implementation seen in class to the algorithm shown below\n",
    "\n",
    "<img src=\"Support/images/DQN_algorithm.png\" width=\"600\" height=\"600\" align=\"center\">\n",
    "\n",
    "\n",
    "**What to do**\n",
    "\n",
    "To do so, you must mainly restructure the Agent class in the following way:\n",
    "- Extend the Agent class' attributes to include 2 DQN networks instead of one (one target and a=one policy network)\n",
    "- Change the method ``get_next_q(.)`` so the q-values are computed using the target network instead of the policy network\n",
    "- Complete the ``transfer_parameters``(.). This method replaces the parameters of the target network with those of the policy network. Use the pytorch ``load_state_dict(.)`` and ``state_dict()`` to do this\n",
    "- In the main loop, include instructions that call ``transfer_parameters``(.) after a predefined number of episodes\n",
    "\n",
    "You should also add the missing steps in the ``optimize(.)`` method of the Agent class. These steps were covered during class:\n",
    "\n",
    "- Complete the computation of the target value. Use the variables ``non_final_mask`` and ``non_final_next_states`` to do so.\n",
    "- Compute the loss. That is the difference between the target q-values (``expected_q``) and the values estimated by the network (``predicted_q``). Use the attribute ``self.loss_fn(.)``."
   ]
  },
  {
   "cell_type": "markdown",
   "metadata": {},
   "source": [
    "### Replay Buffer\n",
    "\n",
    "Let's first define our representation of the replay buffer. To do so, we will use the class ``ReplayMemory`` shown below"
   ]
  },
  {
   "cell_type": "code",
   "execution_count": 3,
   "metadata": {},
   "outputs": [],
   "source": [
    "# This tuple represents one observation in our environment\n",
    "Transition = namedtuple('Transition',\n",
    "                        ('state', 'action', 'next_state', 'reward', 'done'))\n",
    "\n",
    "class ReplayMemory:\n",
    "    \"\"\"\n",
    "    A cyclic buffer of bounded size (capacity) that holds the transitions \n",
    "    observed recently. \n",
    "    \n",
    "    It also implements a sample() method for selecting a random \n",
    "    batch of transitions for training.\n",
    "    \"\"\"\n",
    "    def __init__(self, capacity):\n",
    "        self.capacity = capacity\n",
    "        self.memory = []\n",
    "        self.position = 0\n",
    "\n",
    "    def push(self, *args):\n",
    "        \"\"\"Saves a transition.\"\"\"\n",
    "        if len(self.memory) < self.capacity:\n",
    "            self.memory.append(None)\n",
    "        self.memory[self.position] = Transition(*args)\n",
    "        self.position = (self.position + 1) % self.capacity\n",
    "\n",
    "    def sample(self, batch_size):\n",
    "        \"\"\"Returns a minibatch of `Transition` randomly\n",
    "        Args:\n",
    "            batch_size (int): Size of mini-bach\n",
    "        Returns:\n",
    "            List[Transition]: Minibatch of `Transition`\n",
    "        \"\"\"\n",
    "        return random.sample(self.memory, batch_size)\n",
    "\n",
    "    def __len__(self):\n",
    "        \"\"\"Returns the length \"\"\"\n",
    "        return len(self.memory)"
   ]
  },
  {
   "cell_type": "markdown",
   "metadata": {},
   "source": [
    "### DQN Network\n",
    "\n",
    "Let us now define the Multi Layer Perceptron network that will be used as the function approximator for the action-value function (q-function)"
   ]
  },
  {
   "cell_type": "code",
   "execution_count": 4,
   "metadata": {},
   "outputs": [],
   "source": [
    "class DQN(nn.Module):\n",
    "    \"\"\"DQN Network\n",
    "        Args:\n",
    "        input_dim (int): `state` dimension.\n",
    "        output_dim (int): Number of actions.\n",
    "        hidden_dim (int): Hidden dimension in fully connected layer\n",
    "    \"\"\"\n",
    "    def __init__(self, num_inputs=4, num_actions=2, hidden_dim=128):\n",
    "        super(DQN, self).__init__()\n",
    "        \n",
    "        self.layers = nn.Sequential(\n",
    "            nn.Linear(num_inputs, hidden_dim),\n",
    "            nn.ReLU(),\n",
    "            nn.Linear(hidden_dim, hidden_dim),\n",
    "            nn.ReLU(),\n",
    "            nn.Linear(hidden_dim, num_actions)\n",
    "        )\n",
    "        \n",
    "    def forward(self, x):\n",
    "        \"\"\"Returns a Q_value\n",
    "        Args:\n",
    "            x (torch.Tensor): `State` 2-D tensor of shape (n, num_inputs)\n",
    "        Returns:\n",
    "            torch.Tensor: Q_value, 2-D tensor of shape (n, num_actions)\n",
    "        \"\"\"\n",
    "        return self.layers(x)"
   ]
  },
  {
   "cell_type": "markdown",
   "metadata": {},
   "source": [
    "### DQN Agent\n",
    "\n",
    "This class contains the main steps of the Deep Q-learnig algorithm.\n"
   ]
  },
  {
   "cell_type": "code",
   "execution_count": 5,
   "metadata": {},
   "outputs": [],
   "source": [
    "class DQNAgent(object):\n",
    "    \"\"\"DQN Agent\n",
    "    This class contains the main steps of the DQN algorithm\n",
    "    \n",
    "    Attributes:\n",
    "    policy_net (DQN): Function approximator for our target q function\n",
    "    loss_fn (MSELoss): Criterion that measures the mean squared error (squared L2 norm) \n",
    "                       between each element of the predicted and target q-values.\n",
    "    optimizer (Adam): Stochastic gradient optimize\n",
    "    gamma (float): Discount factor\n",
    "    \"\"\"\n",
    "    \n",
    "    def __init__(self, seed=123, input_dim=4, output_dim=2, \n",
    "                 hidden_dim=128, gamma=0.99):\n",
    "        \"\"\"\n",
    "        Define instance of DQNAgent\n",
    "        Args:\n",
    "        seed (int): Value used to initialize random number generator\n",
    "        input_dim (int): `state` dimension.\n",
    "        output_dim (int): Number of actions.\n",
    "        hidden_dim (int): Hidden dimension in fully connected layer\n",
    "        \"\"\"\n",
    "        torch.manual_seed(seed)\n",
    "        self.policy_net = DQN(input_dim, output_dim, hidden_dim).to(device)\n",
    "                \n",
    "        # TODO 1: Add a target network. Make sure both networks start with same parameters\n",
    "        self.target_net = DQN(input_dim, output_dim, hidden_dim).to(device)\n",
    "        \n",
    "        self.loss_fn = nn.MSELoss()\n",
    "        self.optimizer = optim.Adam(self.policy_net.parameters(), lr=0.001)\n",
    "                \n",
    "        self.gamma = torch.tensor(gamma).float().to(device)\n",
    "        \n",
    "    def get_action(self, state, action_space_dim, epsilon):\n",
    "        \"\"\"\n",
    "        Select next action using epsilon-greedy policy\n",
    "        Args:\n",
    "        epsilon (float): Threshold used to decide whether a random or maximum-value action \n",
    "                         should be taken next\n",
    "         Returns:\n",
    "            int: action index\n",
    "        \"\"\"        \n",
    "        with torch.no_grad():\n",
    "            cur_q = self.policy_net(torch.from_numpy(state).float().to(device))\n",
    "        q_value, action = torch.max(cur_q, axis=0)\n",
    "        action = action if torch.rand(1,).item() > epsilon else torch.randint(0, action_space_dim, (1,)).item()\n",
    "        action = torch.tensor([action]).to(device)\n",
    "        return action\n",
    "    \n",
    "    def get_next_q(self, state):\n",
    "        \"\"\"Returns Q_value for maximum valued action at each state s\n",
    "        Args:\n",
    "            x (torch.Tensor): `State` 2-D tensor of shape (n, num_inputs)\n",
    "        Returns:\n",
    "            torch.Tensor: Q_value, 1 tensor of shape (n)\n",
    "        \"\"\"\n",
    "        with torch.no_grad():\n",
    "            # TODO 2: Predict q-value using target network\n",
    "            next_q = self.target_net(state)\n",
    "        q, _ = torch.max(next_q, axis=1)\n",
    "        return q\n",
    "    \n",
    "    def optimize(self, batch):\n",
    "        \"\"\"Computes `loss` and backpropagation\n",
    "        Args:\n",
    "            batch: List[Transition]: Minibatch of `Transition`\n",
    "        Returns:\n",
    "            float: loss value\n",
    "        \"\"\"\n",
    "        \n",
    "        state_batch = torch.stack(batch.state)\n",
    "        action_batch = torch.stack(batch.action)\n",
    "        reward_batch = torch.stack(batch.reward)\n",
    "        next_state_batch = torch.stack(batch.next_state)\n",
    "                \n",
    "        # Compute a mask of non-final states and concatenate the batch elements\n",
    "        # (a final state is the one after which the simulation ends)\n",
    "        non_final_mask = torch.tensor(tuple(map(lambda s: s.item() is not True,\n",
    "                                          batch.done)), device=device, dtype=torch.bool)\n",
    "        non_final_next_states = torch.stack([s for i, s in enumerate(batch.next_state)\n",
    "                                            if batch.done[i].item() is not True])\n",
    "\n",
    "        # Compute predicted q-values\n",
    "        predicted_q = self.policy_net(state_batch).gather(1, action_batch).reshape(1,-1)\n",
    "        \n",
    "        # TODO 3: Compute expected values for non-terminal and terminal states (this is our TD target)\n",
    "        target_q = torch.zeros(len(batch.state), device=device)\n",
    "        target_q[non_final_mask] = self.get_next_q(non_final_next_states)\n",
    "        expected_q = reward_batch.reshape(1,-1)+(self.gamma * target_q)\n",
    "        \n",
    "        # TODO 4: Compute loss \n",
    "        loss = self.loss_fn(expected_q, predicted_q)\n",
    "        \n",
    "        # Use loss to compute gradient and update policy parameters through backpropagation\n",
    "        self.optimizer.zero_grad()\n",
    "        loss.backward(retain_graph=True)\n",
    "        self.optimizer.step()\n",
    "                \n",
    "        return loss.item()\n",
    "    \n",
    "    def transfer_parameters(self):\n",
    "        # TODO 5: Complete parameter transfer from policy to target network\n",
    "        self.target_net.load_state_dict(self.policy_net.state_dict())\n"
   ]
  },
  {
   "cell_type": "code",
   "execution_count": 6,
   "metadata": {},
   "outputs": [],
   "source": [
    "def plot(frame_idx, rewards, losses):\n",
    "    \"\"\"\n",
    "    Plot evolution of rewards and losses during training\n",
    "    Args:\n",
    "         rewards (list): Cummulative rewards for episodes seen so far\n",
    "         losses (list): Prediction error at each training step\n",
    "    \n",
    "    \"\"\"\n",
    "    clear_output(True)\n",
    "    plt.figure(figsize=(20,5))\n",
    "    plt.subplot(131)\n",
    "    plt.title('Episodes %s.\\nCummulative reward last 10 episodes: %s' % (frame_idx, np.mean(rewards[-10:])))\n",
    "    plt.plot(rewards)\n",
    "    plt.ylabel(\"Avg. cummulative reward\")\n",
    "    plt.xlabel(\"No. of episodes\")\n",
    "    plt.subplot(132)\n",
    "    plt.title('MSE Loss')\n",
    "    plt.ylabel(\"Avg. cummulative reward\")\n",
    "    plt.xlabel(\"No. of steps\")\n",
    "    plt.plot(losses)\n",
    "    plt.show()"
   ]
  },
  {
   "cell_type": "markdown",
   "metadata": {},
   "source": [
    "### Running Parameters\n",
    "\n",
    "The parameter ``freq_sync`` defines how often parameters are transferred between networks. "
   ]
  },
  {
   "cell_type": "code",
   "execution_count": 7,
   "metadata": {},
   "outputs": [],
   "source": [
    "# Define running hyper-parameters and epsilon training sequence\n",
    "\n",
    "memory_capacity = 1000\n",
    "batch_size = 62\n",
    "env_name = \"CartPole-v0\"\n",
    "num_episodes = 1500\n",
    "epsilon_start = 1.0\n",
    "epsilon_end = 0.01\n",
    "epsilon_decay = 200\n",
    "gamma = 0.99\n",
    "hidden_dim = 128\n",
    "freq_sync = 10\n",
    "\n",
    "epsilon_by_step = lambda frame_idx: epsilon_end + (epsilon_start - epsilon_end) * math.exp(-1. * frame_idx / epsilon_decay)\n"
   ]
  },
  {
   "cell_type": "markdown",
   "metadata": {},
   "source": [
    "### Main Loop and Replay Buffer Control\n",
    "\n",
    "This is the main loop of our DQN implementation. Here we generate the samples added to the replay memory and train the agent using a batch sampled for the replay memory"
   ]
  },
  {
   "cell_type": "code",
   "execution_count": 9,
   "metadata": {},
   "outputs": [
    {
     "data": {
      "image/png": "[encoded data removed]",
      "text/plain": [
       "<Figure size 1440x360 with 2 Axes>"
      ]
     },
     "metadata": {
      "needs_background": "light"
     },
     "output_type": "display_data"
    }
   ],
   "source": [
    "losses_list, rewards_list, episode_len_list = [], [], []\n",
    "list_epsilon = []\n",
    "replay_buffer = ReplayMemory(memory_capacity)\n",
    "\n",
    "env = gym.make(env_name)\n",
    "n_actions = env.action_space.n\n",
    "dim_state = env.observation_space.shape[0]\n",
    "\n",
    "agent = DQNAgent(seed=1234, input_dim=dim_state, \n",
    "                 output_dim=n_actions, \n",
    "                 hidden_dim=hidden_dim)\n",
    "\n",
    "cur_epsilon = epsilon_start\n",
    "\n",
    "if RUN_TRAINING:\n",
    "    for i_episode in range(num_episodes):\n",
    "\n",
    "        state, done, ep_len, losses, rewards = env.reset(), False, 0, 0, 0\n",
    "\n",
    "        cur_epsilon = epsilon_by_step(i_episode+1)\n",
    "        list_epsilon += [cur_epsilon]\n",
    "        while not done:\n",
    "            ep_len += 1\n",
    "            action = agent.get_action(state, n_actions, cur_epsilon)\n",
    "            next_state, reward, done, _ = env.step(action.item())\n",
    "            rewards += reward\n",
    "\n",
    "            t_s = torch.tensor(state).float().to(device)\n",
    "            t_r = torch.tensor([reward]).float().to(device)\n",
    "            t_ns = torch.tensor(next_state).float().to(device)\n",
    "            t_a = action.to(device)\n",
    "            t_done = torch.tensor([done]).bool().to(device)\n",
    "\n",
    "            replay_buffer.push(t_s, t_a, t_ns, t_r, t_done)\n",
    "            state = next_state\n",
    "\n",
    "            if len(replay_buffer) > batch_size:\n",
    "                transitions = replay_buffer.sample(batch_size)\n",
    "                batch = Transition(*zip(*transitions))\n",
    "                loss = agent.optimize(batch)\n",
    "                losses += loss\n",
    "\n",
    "        losses_list.append(losses / ep_len)\n",
    "        rewards_list.append(rewards)\n",
    "        episode_len_list.append(ep_len)\n",
    "\n",
    "        # TODO 6: Add rule that call transfer_parameters() every \n",
    "        # freq_sync episodes\n",
    "        if i_episode % freq_sync == 0:\n",
    "            agent.transfer_parameters()\n",
    "\n",
    "        if i_episode % 20 == 0:\n",
    "            plot(i_episode, rewards_list, losses_list)"
   ]
  },
  {
   "cell_type": "markdown",
   "metadata": {},
   "source": [
    "### Let's now test our trained model\n",
    "\n",
    "Can we do better than the random policy?\n",
    "\n",
    "**Note**: If running in AWS, the visualization will not work. To get the code below running without issue, replace \n",
    "```python\n",
    "env = wrappers.Monitor(env, \"./gym-results\", force=True)\n",
    "```\n",
    "with\n",
    "\n",
    "```python\n",
    "env = wrappers.Monitor(env, \"./gym-results\", force=True, video_callable=False)\n",
    "\n",
    "```\n",
    "You can verify the performance of your agent by looking at the cummulative reward "
   ]
  },
  {
   "cell_type": "code",
   "execution_count": 10,
   "metadata": {},
   "outputs": [
    {
     "data": {
      "text/plain": [
       "Text(0.5, 1.0, 'Average return 199.53 +- 4.68')"
      ]
     },
     "execution_count": 10,
     "metadata": {},
     "output_type": "execute_result"
    },
    {
     "data": {
      "image/png": "[encoded data removed]",
      "text/plain": [
       "<Figure size 288x288 with 1 Axes>"
      ]
     },
     "metadata": {
      "needs_background": "light"
     },
     "output_type": "display_data"
    }
   ],
   "source": [
    "from gym import wrappers\n",
    "\n",
    "env = gym.make(\"CartPole-v0\")\n",
    "env = wrappers.Monitor(env, \"./gym-results\", force=True, video_callable=False)\n",
    "n_trials = 100\n",
    "list_rewards = []\n",
    "\n",
    "for i in range(n_trials):\n",
    "    observation = env.reset()\n",
    "    ep_return = 0\n",
    "    done = False\n",
    "    while not done:\n",
    "        action = agent.get_action(observation, n_actions, 0.01)\n",
    "        observation, reward, done, info = env.step(action.item())\n",
    "        ep_return += reward\n",
    "    list_rewards.append(ep_return)\n",
    "env.close()\n",
    "\n",
    "fig, ax = plt.subplots(figsize=(4, 4))\n",
    "ax.plot(list_rewards)\n",
    "ax.set_xlabel(\"Num. Trial\")\n",
    "ax.set_ylabel(\"Return\")\n",
    "ax.set_title('Average return %s +- %s' % (np.round(np.mean(list_rewards),2), np.round(np.std(list_rewards), 2)))"
   ]
  },
  {
   "cell_type": "markdown",
   "metadata": {},
   "source": [
    "### This is an example of the performance obtained after training the agent with the hyper-parameters listed above for a total of 500 episodes."
   ]
  },
  {
   "cell_type": "code",
   "execution_count": 11,
   "metadata": {},
   "outputs": [
    {
     "data": {
      "text/html": [
       "\n",
       "    <video width=\"360\" height=\"auto\" alt=\"test\" controls><source src=\"data:video/mp4;base64,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\" type=\"video/mp4\" /></video>"
      ],
      "text/plain": [
       "<IPython.core.display.HTML object>"
      ]
     },
     "execution_count": 11,
     "metadata": {},
     "output_type": "execute_result"
    }
   ],
   "source": [
    "import io\n",
    "import base64\n",
    "from IPython.display import HTML\n",
    "\n",
    "video = io.open('./Support/images/exampleSolution.mp4', 'r+b').read()\n",
    "encoded = base64.b64encode(video)\n",
    "HTML(data='''\n",
    "    <video width=\"360\" height=\"auto\" alt=\"test\" controls><source src=\"data:video/mp4;base64,{0}\" type=\"video/mp4\" /></video>'''\n",
    ".format(encoded.decode('ascii')))"
   ]
  },
  {
   "cell_type": "markdown",
   "metadata": {},
   "source": [
    "# Grading\n",
    "\n",
    "<p style=\"color:#FF0000\";> <b>Important: Set the RUN_TRAINING flag to False before submitting your notebook</b></p> \n",
    "\n",
    "You will be graded based on the performance of your network. Your solution will be executed for a total of 100 trials and the average return will be used to determine your grade. The grading scale is:\n",
    "\n",
    "| Avg. Return | Marks       |\n",
    "| ----------- | ----------- |\n",
    "| < 100       | 1  pt       |\n",
    "| 101 - 120   | 2  pts      |\n",
    "| 121 - 140   | 3  pts      |\n",
    "| 141 - 160   | 4  pts      |\n",
    "| 161 - 180   | 5  pts      |\n",
    "| > 180       | 6  pts      |\n",
    "\n",
    "### For your submission:\n",
    "\n",
    "- Remove all print statements from your code\n",
    "- Make sure that you do not change the name of the DQN class\n",
    "- Submit both a copy of your notebook and the trained network. Use the following code to save the parameters of your ``policy`` network.\n",
    "```python\n",
    "file_name = \"{}_DQN.pt\".format(WRITE YOUR STUDENT ID HERE)\n",
    "torch.save(agent.policy_net.state_dict(), file_name)\n",
    "```\n",
    "- Make sure that both your notebook and network file follow the naming convention\n",
    "- You can tune the hyper-parameters if needed or modify the architecture of the DQN approximator. During grading, we should be able to create a copy of your DQN network using the submitted file without problem.\n",
    "- To test wether your network has been saved correctly and can be loaded without issue, you can use the code provided below\n",
    "\n",
    "```python\n",
    "USE_CUDA = torch.cuda.is_available()\n",
    "policy = DQN(num_inputs=dim_state, num_actions=n_actions, hidden_dim=hidden_dim)\n",
    "\n",
    "# Load the parameters you saved into the new instance\n",
    "if USE_CUDA:\n",
    "    device = torch.device('cuda')\n",
    "    policy.load_state_dict(torch.load(file_name))\n",
    "    policy.to(device)\n",
    "else:\n",
    "    device = torch.device('cpu')\n",
    "    policy.load_state_dict(torch.load(file_name, map_location=device))    \n",
    "\n",
    "# Set your network in evaluation mode before running inference.\n",
    "policy.eval()\n",
    "\n",
    "# Generate test episode\n",
    "env = gym.make(\"CartPole-v0\")\n",
    "state = env.reset()\n",
    "\n",
    "# Set state to device\n",
    "t_s = torch.tensor(state).float().to(device)\n",
    "\n",
    "# Sample action\n",
    "with torch.no_grad():\n",
    "    q_values = policy(t_s)\n",
    "q_value, action = torch.max(q_values, axis=0)\n",
    "\n",
    "print(env.step(action.item()))\n",
    "\n",
    "```"
   ]
  },
  {
   "cell_type": "code",
   "execution_count": 12,
   "metadata": {},
   "outputs": [],
   "source": [
    "#file_name = \"{}_DQN.pt\".format(26932504)\n",
    "#torch.save(agent.policy_net.state_dict(), file_name)"
   ]
  },
  {
   "cell_type": "code",
   "execution_count": 13,
   "metadata": {},
   "outputs": [
    {
     "name": "stdout",
     "output_type": "stream",
     "text": [
      "(array([-0.04505668, -0.18766738,  0.01249124,  0.33424327]), 1.0, False, {})\n"
     ]
    }
   ],
   "source": [
    "USE_CUDA = torch.cuda.is_available()\n",
    "policy = DQN(num_inputs=dim_state, num_actions=n_actions, hidden_dim=hidden_dim)\n",
    "\n",
    "# Load the parameters you saved into the new instance\n",
    "if USE_CUDA:\n",
    "    device = torch.device('cuda')\n",
    "    policy.load_state_dict(torch.load(file_name))\n",
    "    policy.to(device)\n",
    "else:\n",
    "    device = torch.device('cpu')\n",
    "    policy.load_state_dict(torch.load(file_name, map_location=device))    \n",
    "\n",
    "# Set your network in evaluation mode before running inference.\n",
    "policy.eval()\n",
    "\n",
    "# Generate test episode\n",
    "env = gym.make(\"CartPole-v0\")\n",
    "state = env.reset()\n",
    "\n",
    "# Set state to device\n",
    "t_s = torch.tensor(state).float().to(device)\n",
    "\n",
    "# Sample action\n",
    "with torch.no_grad():\n",
    "    q_values = policy(t_s)\n",
    "q_value, action = torch.max(q_values, axis=0)\n",
    "\n",
    "#print(env.step(action.item()))"
   ]
  },
  {
   "cell_type": "code",
   "execution_count": null,
   "metadata": {},
   "outputs": [],
   "source": []
  }
 ],
 "metadata": {
  "kernelspec": {
   "display_name": "conda_pytorch_latest_p36",
   "language": "python",
   "name": "conda_pytorch_latest_p36"
  },
  "language_info": {
   "codemirror_mode": {
    "name": "ipython",
    "version": 3
   },
   "file_extension": ".py",
   "mimetype": "text/x-python",
   "name": "python",
   "nbconvert_exporter": "python",
   "pygments_lexer": "ipython3",
   "version": "3.6.10"
  }
 },
 "nbformat": 4,
 "nbformat_minor": 4
}
